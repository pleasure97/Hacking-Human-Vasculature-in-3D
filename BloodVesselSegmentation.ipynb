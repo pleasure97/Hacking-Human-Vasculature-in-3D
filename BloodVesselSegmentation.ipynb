{
  "nbformat": 4,
  "nbformat_minor": 0,
  "metadata": {
    "colab": {
      "provenance": []
    },
    "kernelspec": {
      "name": "python3",
      "display_name": "Python 3"
    },
    "language_info": {
      "name": "python"
    }
  },
  "cells": [
    {
      "cell_type": "code",
      "source": [
        "!pip install jovian --upgrade --quiet"
      ],
      "metadata": {
        "id": "ZhmmQIFLvSqw"
      },
      "execution_count": null,
      "outputs": []
    },
    {
      "cell_type": "code",
      "source": [
        "import jovian"
      ],
      "metadata": {
        "id": "VllUtY3rghwX"
      },
      "execution_count": null,
      "outputs": []
    },
    {
      "cell_type": "code",
      "source": [
        "#Make directory name kaggle\n",
        "! mkdir ~/.kaggle"
      ],
      "metadata": {
        "id": "1cEZ_dN8giiX"
      },
      "execution_count": null,
      "outputs": []
    },
    {
      "cell_type": "code",
      "source": [
        "#Copy the json kaggle to this directory\n",
        "! cp kaggle.json ~/.kaggle/"
      ],
      "metadata": {
        "id": "3NgEXo4MglWn"
      },
      "execution_count": null,
      "outputs": []
    },
    {
      "cell_type": "code",
      "source": [
        "#Allocate the required permission for this file.\n",
        "! chmod 600 ~/.kaggle/kaggle.json"
      ],
      "metadata": {
        "id": "EeQ13A80gn3f"
      },
      "execution_count": null,
      "outputs": []
    },
    {
      "cell_type": "code",
      "source": [
        "#Downloading competition dataset\n",
        "! kaggle competitions download <name-of-competition>"
      ],
      "metadata": {
        "id": "-Fmeff8Kgpi_"
      },
      "execution_count": null,
      "outputs": []
    },
    {
      "cell_type": "code",
      "source": [
        "#Downloading specific files\n",
        "! kaggle competitions download google-smartphone-decimeter-challenge -f baseline_locations_train.csv"
      ],
      "metadata": {
        "id": "8aG-8N_5gq13"
      },
      "execution_count": null,
      "outputs": []
    },
    {
      "cell_type": "code",
      "source": [
        "#Downloading dataset not part from any competition\n",
        "! kaggle datasets download ozlerhakan/forest-fires-dataset-in-turkey"
      ],
      "metadata": {
        "id": "2i1gBHRDgsFn"
      },
      "execution_count": null,
      "outputs": []
    },
    {
      "cell_type": "code",
      "source": [
        "# Put on the same directory\n",
        "from zipfile import ZipFile\n",
        "\n",
        "# specifying the name of the zip file\n",
        "file = \"forest-fires-dataset-in-turkey.zip\"\n",
        "\n",
        "# open the zip file in read mode\n",
        "with ZipFile(file, 'r') as zip:\n",
        "    # list all the contents of the zip file\n",
        "    zip.printdir()\n",
        "\n",
        "    # extract all files\n",
        "    print('extraction...')\n",
        "    zip.extractall()\n",
        "    print('Done!')"
      ],
      "metadata": {
        "id": "BhvOiXBhgvBH"
      },
      "execution_count": null,
      "outputs": []
    }
  ]
}